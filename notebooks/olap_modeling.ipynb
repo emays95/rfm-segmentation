{
 "cells": [
  {
   "cell_type": "code",
   "execution_count": 3,
   "id": "90134ecd-0425-4248-b32f-0c059707f8dc",
   "metadata": {},
   "outputs": [
    {
     "name": "stdout",
     "output_type": "stream",
     "text": [
      "Collecting psycopg2-binary\n",
      "  Downloading psycopg2_binary-2.9.10-cp311-cp311-manylinux_2_17_x86_64.manylinux2014_x86_64.whl.metadata (4.9 kB)\n",
      "Downloading psycopg2_binary-2.9.10-cp311-cp311-manylinux_2_17_x86_64.manylinux2014_x86_64.whl (3.0 MB)\n",
      "\u001b[2K   \u001b[90m━━━━━━━━━━━━━━━━━━━━━━━━━━━━━━━━━━━━━━━━\u001b[0m \u001b[32m3.0/3.0 MB\u001b[0m \u001b[31m7.5 MB/s\u001b[0m eta \u001b[36m0:00:00\u001b[0m00:01\u001b[0m00:01\u001b[0m\n",
      "\u001b[?25hInstalling collected packages: psycopg2-binary\n",
      "Successfully installed psycopg2-binary-2.9.10\n",
      "Note: you may need to restart the kernel to use updated packages.\n"
     ]
    }
   ],
   "source": [
    "%pip install psycopg2-binary"
   ]
  },
  {
   "cell_type": "code",
   "execution_count": 4,
   "id": "350f7ed3-4797-4844-a48e-03f58863af32",
   "metadata": {},
   "outputs": [],
   "source": [
    "from pyspark import SparkConf, pandas as ps\n",
    "from pyspark.sql import SparkSession, functions as sf, Window\n",
    "from pyspark.sql.functions import col, collect_list\n",
    "from pyspark.sql.types import *\n",
    "import psycopg2\n",
    "import time\n",
    "import os\n",
    "import glob"
   ]
  },
  {
   "cell_type": "code",
   "execution_count": 5,
   "id": "77bf7037-b9fb-456d-98f0-956780e81bab",
   "metadata": {},
   "outputs": [],
   "source": [
    "conf = SparkConf().set(\"spark.driver.memory\", \"8g\")\n",
    "\n",
    "spark_session = SparkSession\\\n",
    "    .builder\\\n",
    "    .master(\"local\")\\\n",
    "    .config(conf=conf)\\\n",
    "    .appName(\"ETL\") \\\n",
    "    .getOrCreate()"
   ]
  },
  {
   "cell_type": "code",
   "execution_count": 11,
   "id": "7cef40f1-e766-4282-a0be-49a0d0d9a0f2",
   "metadata": {},
   "outputs": [],
   "source": [
    "oltp_params = {\n",
    "    'user': 'admin',\n",
    "    'password': 'password',\n",
    "    \"driver\": \"org.postgresql_postgresql-42.7.3.jar\"\n",
    "}\n",
    "\n",
    "oltp_url = \"jdbc:postgresql://rfm-segmentation-oltp-db-1:5432/trans_oltp\""
   ]
  },
  {
   "cell_type": "code",
   "execution_count": 10,
   "id": "7e278916-1a00-4020-a041-6b12e10af858",
   "metadata": {},
   "outputs": [
    {
     "name": "stdout",
     "output_type": "stream",
     "text": [
      "Vector(spark://5ab2b1b817ac:43743/jars/org.checkerframework_checker-qual-3.42.0.jar, spark://5ab2b1b817ac:43743/jars/org.postgresql_postgresql-42.7.3.jar)\n"
     ]
    }
   ],
   "source": [
    "# print(spark_session.sparkContext._jvm.java.sql.DriverManager.getDrivers())\n",
    "print(spark_session.sparkContext._jsc.sc().listJars())"
   ]
  },
  {
   "cell_type": "code",
   "execution_count": 14,
   "id": "42e1d65c-6233-4ccc-b1b0-f2ebd3c1db2d",
   "metadata": {},
   "outputs": [
    {
     "name": "stdout",
     "output_type": "stream",
     "text": [
      "+----------+----------+--------------------+--------------+-------------+-----------------+----------------+--------------------+-------+\n",
      "|  trans_id|trans_date|          total_cost|payment_method|         city|       store_type|discount_applied|           promotion|cust_id|\n",
      "+----------+----------+--------------------+--------------+-------------+-----------------+----------------+--------------------+-------+\n",
      "|1000299020|2021-07-03|78.20000000000000...|Mobile Payment|        Miami| Department Store|           false|Discount on Selec...|  33877|\n",
      "|1000342674|2021-10-25|11.60000000000000...|Mobile Payment|San Francisco|      Supermarket|            true|BOGO (Buy One Get...|  33877|\n",
      "|1000806142|2020-05-25|90.06000000000000...|    Debit Card|      Chicago|   Warehouse Club|            true|                None| 629479|\n",
      "|1000008294|2020-07-27|90.77000000000000...|          Cash|San Francisco| Department Store|            true|BOGO (Buy One Get...| 143811|\n",
      "|1000641795|2020-05-22|68.82000000000000...|Mobile Payment|       Boston|  Specialty Store|            true|Discount on Selec...| 278700|\n",
      "|1000933527|2021-08-07|94.91000000000000...|          Cash|      Atlanta|   Warehouse Club|            true|                None| 598332|\n",
      "|1000604321|2022-11-05|84.95000000000000...|          Cash|      Chicago|Convenience Store|           false|BOGO (Buy One Get...|  83709|\n",
      "|1000337582|2022-07-21|28.46000000000000...|Mobile Payment|  Los Angeles|  Specialty Store|           false|Discount on Selec...| 142346|\n",
      "|1000556698|2021-10-14|18.47000000000000...|   Credit Card|      Seattle|Convenience Store|           false|Discount on Selec...| 142346|\n",
      "|1000699026|2023-08-11|88.97000000000000...|          Cash|      Chicago|      Supermarket|           false|                None| 142346|\n",
      "|1000720110|2024-04-15|80.04000000000000...|Mobile Payment|  Los Angeles|   Warehouse Club|           false|Discount on Selec...| 142346|\n",
      "|1000991622|2022-08-22|36.17000000000000...|Mobile Payment|      Atlanta|  Specialty Store|           false|                None| 142346|\n",
      "|1000739431|2023-04-21|11.81000000000000...|          Cash|San Francisco|   Warehouse Club|           false|                None| 264869|\n",
      "|1000437352|2020-03-17|33.21000000000000...|   Credit Card|      Seattle|  Specialty Store|            true|Discount on Selec...| 269538|\n",
      "|1000365148|2022-09-04|22.94000000000000...|          Cash|      Chicago|  Specialty Store|           false|                None| 390893|\n",
      "|1000329834|2020-09-09|93.11000000000000...|    Debit Card|      Chicago|         Pharmacy|            true|Discount on Selec...| 128000|\n",
      "|1000344630|2021-05-26|56.68000000000000...|          Cash|     New York|  Specialty Store|           false|BOGO (Buy One Get...|  85631|\n",
      "|1000886696|2022-09-08|36.49000000000000...|    Debit Card|      Seattle|      Supermarket|            true|                None| 610172|\n",
      "|1000890940|2020-04-29|78.67000000000000...|Mobile Payment|      Atlanta|         Pharmacy|           false|Discount on Selec...| 582400|\n",
      "|1000926569|2024-01-22|49.58000000000000...|Mobile Payment|        Miami|      Supermarket|           false|Discount on Selec...| 582400|\n",
      "+----------+----------+--------------------+--------------+-------------+-----------------+----------------+--------------------+-------+\n",
      "only showing top 20 rows\n",
      "\n"
     ]
    }
   ],
   "source": [
    "# df = spark_session.read.jdbc(oltp_url, \"trans\", properties=oltp_params)\n",
    "# df = spark_session.read.format('jdbc').option('url', oltp_url).option('dbtable', \"trans\").option('user', 'admin').option('password', 'password').option('driver', \"org.postgresql.Driver\").load()\n",
    "\n",
    "df.show()\n"
   ]
  },
  {
   "cell_type": "code",
   "execution_count": 5,
   "id": "069aa035-f25e-4915-acb0-39124f5e4776",
   "metadata": {},
   "outputs": [],
   "source": [
    "# df.Product = df.Product.cast(ArrayType(StringType()))"
   ]
  },
  {
   "cell_type": "code",
   "execution_count": 102,
   "id": "edecd490-bf3b-4c16-b799-3ce5284d4e2c",
   "metadata": {},
   "outputs": [],
   "source": [
    "customers = df.select(['Customer_Name', 'Customer_Category']).distinct()"
   ]
  },
  {
   "cell_type": "code",
   "execution_count": 103,
   "id": "5721b40c-0001-4c41-9fe5-37bdd40bf681",
   "metadata": {
    "scrolled": true
   },
   "outputs": [],
   "source": [
    "win_spec = Window.orderBy(sf.monotonically_increasing_id())\n",
    "cust = customers.withColumn(\"cust_id\", sf.row_number().over(win_spec))\n",
    "# customers.show()"
   ]
  },
  {
   "cell_type": "code",
   "execution_count": null,
   "id": "6371df60-07f8-4948-881f-53f792a9389a",
   "metadata": {},
   "outputs": [],
   "source": []
  },
  {
   "cell_type": "code",
   "execution_count": 162,
   "id": "21ff7408-1ffb-4b3a-9bbb-1b59f404cd79",
   "metadata": {},
   "outputs": [
    {
     "data": {
      "text/plain": [
       "2975433"
      ]
     },
     "execution_count": 162,
     "metadata": {},
     "output_type": "execute_result"
    }
   ],
   "source": [
    " # = sf.split(df.Product,',')\n",
    "# print(products)\n",
    "# prods = [sf.split(p, ',').alias(\"Product\") for p in products]\n",
    "# print(prods)\n",
    "tran_prod = df.select(\"Transaction_ID\", sf.explode(sf.split(sf.regexp_replace(df.Product, \"^\\\\[|'+|\\\\]$\",''),',')).alias(\"Product\")).distinct()\n",
    "tran_prod.count()\n"
   ]
  },
  {
   "cell_type": "code",
   "execution_count": 106,
   "id": "0d6224cf-7b12-4f72-9e27-41666b03c145",
   "metadata": {},
   "outputs": [
    {
     "name": "stdout",
     "output_type": "stream",
     "text": [
      "+---------------+-------+\n",
      "|        Product|prod_id|\n",
      "+---------------+-------+\n",
      "|     Lawn Mower|      1|\n",
      "|        Pickles|      2|\n",
      "|         Shrimp|      3|\n",
      "|           Eggs|      4|\n",
      "|        Ketchup|      5|\n",
      "|           Tuna|      6|\n",
      "|          Water|      7|\n",
      "|      Olive Oil|      8|\n",
      "|          Broom|      9|\n",
      "|       Potatoes|     10|\n",
      "|         Orange|     11|\n",
      "|    Light Bulbs|     12|\n",
      "|  Peanut Butter|     13|\n",
      "|     Trash Bags|     14|\n",
      "|         Butter|     15|\n",
      "|         Cereal|     16|\n",
      "|        Mustard|     17|\n",
      "|  Ironing Board|     18|\n",
      "| Cleaning Spray|     19|\n",
      "|            Tea|     20|\n",
      "+---------------+-------+\n",
      "only showing top 20 rows\n",
      "\n"
     ]
    }
   ],
   "source": [
    "product = tran_prod.select(['Product']).distinct()\n",
    "win_spec = Window.orderBy(sf.monotonically_increasing_id())\n",
    "product2 = product.withColumn(\"prod_id\", sf.row_number().over(win_spec))\n",
    "product2.show(20)"
   ]
  },
  {
   "cell_type": "code",
   "execution_count": 164,
   "id": "ae4b097c-48f8-40bb-ac8c-4d22152da594",
   "metadata": {},
   "outputs": [
    {
     "name": "stdout",
     "output_type": "stream",
     "text": [
      "+-------------+--------------+-------+\n",
      "|      Product|Transaction_ID|prod_id|\n",
      "+-------------+--------------+-------+\n",
      "|       Salmon|    1000000529|     22|\n",
      "|       Salmon|    1000000668|     22|\n",
      "|     Tomatoes|    1000000547|     34|\n",
      "|       Razors|    1000000998|     35|\n",
      "|         Iron|    1000000293|     53|\n",
      "|  Bath Towels|    1000001094|     63|\n",
      "|        Water|    1000000561|     66|\n",
      "|          Tea|    1000001102|     77|\n",
      "|      Carrots|    1000000494|     89|\n",
      "|        Bread|    1000001146|     93|\n",
      "| Paper Towels|    1000000057|     96|\n",
      "|Peanut Butter|    1000000940|    102|\n",
      "|      Chicken|    1000001099|    103|\n",
      "|      Dustpan|    1000000626|    108|\n",
      "|  Garden Hose|    1000000860|    113|\n",
      "|         Soda|    1000001100|    117|\n",
      "| Toilet Paper|    1000000611|    122|\n",
      "|   Toothbrush|    1000000382|    124|\n",
      "|      Mustard|    1000000921|    129|\n",
      "|       Butter|    1000000403|    155|\n",
      "+-------------+--------------+-------+\n",
      "only showing top 20 rows\n",
      "\n"
     ]
    }
   ],
   "source": [
    "tran_prod2 = tran_prod.join(other=product2, on='Product', how='left')\n",
    "tran_prod2.show(20)\n"
   ]
  },
  {
   "cell_type": "code",
   "execution_count": 150,
   "id": "f5352aea-2e54-4b6c-a0de-9f26c915eebf",
   "metadata": {},
   "outputs": [
    {
     "name": "stdout",
     "output_type": "stream",
     "text": [
      "1000000\n",
      "1000000\n",
      "+--------------+-------------------+----------+--------------+-------------+-----------------+----------------+--------------------+-------+\n",
      "|Transaction_ID|               Date|Total_Cost|Payment_Method|         City|       Store_Type|Discount_Applied|           Promotion|cust_id|\n",
      "+--------------+-------------------+----------+--------------+-------------+-----------------+----------------+--------------------+-------+\n",
      "|    1000792166|2021-07-24 11:39:12|     36.18|          Cash|      Seattle|         Pharmacy|            true|BOGO (Buy One Get...| 657065|\n",
      "|    1000000013|2023-04-02 09:24:11|     17.51|Mobile Payment|      Seattle|   Warehouse Club|           false|BOGO (Buy One Get...|  40487|\n",
      "|    1000792168|2022-12-24 23:42:25|     17.18|   Credit Card|  Los Angeles|  Specialty Store|           false|                None| 572494|\n",
      "|    1000792157|2021-07-08 04:41:46|     83.19|    Debit Card|  Los Angeles|         Pharmacy|           false|BOGO (Buy One Get...| 600212|\n",
      "|    1000000020|2021-10-31 07:46:22|     83.86|          Cash|      Houston|         Pharmacy|           false|Discount on Selec...| 541626|\n",
      "|    1000792160|2022-05-13 03:57:17|      49.6|    Debit Card|        Miami|  Specialty Store|           false|                None| 231167|\n",
      "|    1000792169|2023-01-07 00:10:09|     24.04|    Debit Card|      Atlanta|Convenience Store|            true|                None| 352801|\n",
      "|    1000000019|2021-01-31 07:52:18|     96.77|    Debit Card|      Chicago| Department Store|            true|Discount on Selec...| 457134|\n",
      "|    1000792163|2022-04-13 18:19:10|     86.06|Mobile Payment|      Seattle|  Specialty Store|           false|BOGO (Buy One Get...| 616567|\n",
      "|    1000792174|2020-10-25 16:23:41|     20.03|    Debit Card|       Dallas|      Supermarket|           false|BOGO (Buy One Get...| 414874|\n",
      "|    1000000018|2022-07-18 11:33:28|     98.28|Mobile Payment|     New York|   Warehouse Club|           false|BOGO (Buy One Get...| 265009|\n",
      "|    1000792155|2022-08-06 23:59:59|     48.72|   Credit Card|       Boston|  Specialty Store|           false|Discount on Selec...| 229096|\n",
      "|    1000000016|2021-10-15 13:24:31|      99.7|Mobile Payment|        Miami|  Specialty Store|            true|                None| 202982|\n",
      "|    1000792156|2023-10-03 10:42:34|     72.83|   Credit Card|San Francisco|Convenience Store|           false|BOGO (Buy One Get...| 618821|\n",
      "|    1000792172|2023-11-11 07:21:48|     80.42|          Cash|       Dallas|  Specialty Store|            true|BOGO (Buy One Get...| 583799|\n",
      "|    1000000011|2023-03-30 19:26:41|     31.88|Mobile Payment|     New York|  Specialty Store|           false|Discount on Selec...|  32751|\n",
      "|    1000792159|2020-10-07 17:07:16|     93.63|          Cash|      Chicago|      Supermarket|            true|                None| 641928|\n",
      "|    1000792162|2022-07-26 08:20:50|     53.97|    Debit Card|       Boston|      Supermarket|           false|Discount on Selec...| 627779|\n",
      "|    1000000015|2021-01-01 04:29:07|     29.57|Mobile Payment|San Francisco|Convenience Store|           false|BOGO (Buy One Get...| 132269|\n",
      "|    1000792161|2024-03-05 22:33:27|     62.37|   Credit Card|       Dallas|         Pharmacy|           false|Discount on Selec...| 336336|\n",
      "+--------------+-------------------+----------+--------------+-------------+-----------------+----------------+--------------------+-------+\n",
      "only showing top 20 rows\n",
      "\n"
     ]
    }
   ],
   "source": [
    "tran = df.select(\"Transaction_ID\", \"Date\", \"Customer_Name\", \"Customer_Category\", \"Total_Cost\", \"Payment_Method\", \"City\", \"Store_Type\", \"Discount_Applied\", \"Promotion\")\n",
    "tran = tran.join(cust, on=[\"Customer_Name\", \"Customer_Category\"], how='left')\n",
    "tran = tran.drop('Customer_Name')\n",
    "tran = tran.drop('Customer_Category')\n",
    "print(tran.count())\n",
    "\n",
    "tran.show()"
   ]
  },
  {
   "cell_type": "code",
   "execution_count": null,
   "id": "b18915e9-d163-4da1-a127-a10312019887",
   "metadata": {},
   "outputs": [],
   "source": [
    "tran.select(\"Transaction_ID\").distinct().filter("
   ]
  },
  {
   "cell_type": "code",
   "execution_count": 151,
   "id": "f9ff1c56-9e2a-4092-9c15-083ea39b209b",
   "metadata": {},
   "outputs": [
    {
     "name": "stdout",
     "output_type": "stream",
     "text": [
      "+--------------------+-----------------+-------+\n",
      "|       Customer_Name|Customer_Category|cust_id|\n",
      "+--------------------+-----------------+-------+\n",
      "|     Michelle Acosta|          Student|      1|\n",
      "|       Carolyn Brown|   Senior Citizen|      2|\n",
      "|        Victor Weeks|         Teenager|      3|\n",
      "|        Lori Pearson|         Teenager|      4|\n",
      "|           Amy Davis|          Student|      5|\n",
      "|      Joshua Coleman|      Young Adult|      6|\n",
      "|      Nathan Russell|   Senior Citizen|      7|\n",
      "|        Wayne Fields|      Young Adult|      8|\n",
      "|      Robert Jackson|      Young Adult|      9|\n",
      "|Samantha Sherman DVM|      Young Adult|     10|\n",
      "|         Katie Jones|          Student|     11|\n",
      "|Alexandria Wilkerson|     Professional|     12|\n",
      "|      Christina Cook|      Middle-Aged|     13|\n",
      "|          Kent Jones|          Student|     14|\n",
      "|      Melissa Morgan|          Retiree|     15|\n",
      "|     Jessica Mullins|      Young Adult|     16|\n",
      "|   Mr. Jerome Fisher|          Student|     17|\n",
      "|  Rachael Mccullough|        Homemaker|     18|\n",
      "|        Vincent Gill|   Senior Citizen|     19|\n",
      "|    Gabriel Williams|     Professional|     20|\n",
      "+--------------------+-----------------+-------+\n",
      "only showing top 20 rows\n",
      "\n",
      "+--------------+-------------------+----------+--------------+-------------+-----------------+----------------+--------------------+-------+\n",
      "|Transaction_ID|               Date|Total_Cost|Payment_Method|         City|       Store_Type|Discount_Applied|           Promotion|cust_id|\n",
      "+--------------+-------------------+----------+--------------+-------------+-----------------+----------------+--------------------+-------+\n",
      "|    1000792166|2021-07-24 11:39:12|     36.18|          Cash|      Seattle|         Pharmacy|            true|BOGO (Buy One Get...| 657065|\n",
      "|    1000000013|2023-04-02 09:24:11|     17.51|Mobile Payment|      Seattle|   Warehouse Club|           false|BOGO (Buy One Get...|  40487|\n",
      "|    1000792168|2022-12-24 23:42:25|     17.18|   Credit Card|  Los Angeles|  Specialty Store|           false|                None| 572494|\n",
      "|    1000792157|2021-07-08 04:41:46|     83.19|    Debit Card|  Los Angeles|         Pharmacy|           false|BOGO (Buy One Get...| 600212|\n",
      "|    1000000020|2021-10-31 07:46:22|     83.86|          Cash|      Houston|         Pharmacy|           false|Discount on Selec...| 541626|\n",
      "|    1000792160|2022-05-13 03:57:17|      49.6|    Debit Card|        Miami|  Specialty Store|           false|                None| 231167|\n",
      "|    1000792169|2023-01-07 00:10:09|     24.04|    Debit Card|      Atlanta|Convenience Store|            true|                None| 352801|\n",
      "|    1000000019|2021-01-31 07:52:18|     96.77|    Debit Card|      Chicago| Department Store|            true|Discount on Selec...| 457134|\n",
      "|    1000792163|2022-04-13 18:19:10|     86.06|Mobile Payment|      Seattle|  Specialty Store|           false|BOGO (Buy One Get...| 616567|\n",
      "|    1000792174|2020-10-25 16:23:41|     20.03|    Debit Card|       Dallas|      Supermarket|           false|BOGO (Buy One Get...| 414874|\n",
      "|    1000000018|2022-07-18 11:33:28|     98.28|Mobile Payment|     New York|   Warehouse Club|           false|BOGO (Buy One Get...| 265009|\n",
      "|    1000792155|2022-08-06 23:59:59|     48.72|   Credit Card|       Boston|  Specialty Store|           false|Discount on Selec...| 229096|\n",
      "|    1000000016|2021-10-15 13:24:31|      99.7|Mobile Payment|        Miami|  Specialty Store|            true|                None| 202982|\n",
      "|    1000792156|2023-10-03 10:42:34|     72.83|   Credit Card|San Francisco|Convenience Store|           false|BOGO (Buy One Get...| 618821|\n",
      "|    1000792172|2023-11-11 07:21:48|     80.42|          Cash|       Dallas|  Specialty Store|            true|BOGO (Buy One Get...| 583799|\n",
      "|    1000000011|2023-03-30 19:26:41|     31.88|Mobile Payment|     New York|  Specialty Store|           false|Discount on Selec...|  32751|\n",
      "|    1000792159|2020-10-07 17:07:16|     93.63|          Cash|      Chicago|      Supermarket|            true|                None| 641928|\n",
      "|    1000792162|2022-07-26 08:20:50|     53.97|    Debit Card|       Boston|      Supermarket|           false|Discount on Selec...| 627779|\n",
      "|    1000000015|2021-01-01 04:29:07|     29.57|Mobile Payment|San Francisco|Convenience Store|           false|BOGO (Buy One Get...| 132269|\n",
      "|    1000792161|2024-03-05 22:33:27|     62.37|   Credit Card|       Dallas|         Pharmacy|           false|Discount on Selec...| 336336|\n",
      "+--------------+-------------------+----------+--------------+-------------+-----------------+----------------+--------------------+-------+\n",
      "only showing top 20 rows\n",
      "\n",
      "+---------------+-------+\n",
      "|        Product|prod_id|\n",
      "+---------------+-------+\n",
      "|     Lawn Mower|      1|\n",
      "|        Pickles|      2|\n",
      "|         Shrimp|      3|\n",
      "|           Eggs|      4|\n",
      "|        Ketchup|      5|\n",
      "|           Tuna|      6|\n",
      "|          Water|      7|\n",
      "|      Olive Oil|      8|\n",
      "|          Broom|      9|\n",
      "|       Potatoes|     10|\n",
      "|         Orange|     11|\n",
      "|    Light Bulbs|     12|\n",
      "|  Peanut Butter|     13|\n",
      "|     Trash Bags|     14|\n",
      "|         Butter|     15|\n",
      "|         Cereal|     16|\n",
      "|        Mustard|     17|\n",
      "|  Ironing Board|     18|\n",
      "| Cleaning Spray|     19|\n",
      "|            Tea|     20|\n",
      "+---------------+-------+\n",
      "only showing top 20 rows\n",
      "\n",
      "+--------------+--------------+-------+\n",
      "|       Product|Transaction_ID|prod_id|\n",
      "+--------------+--------------+-------+\n",
      "|       Ketchup|    1000000000|      5|\n",
      "|   Light Bulbs|    1000000000|     12|\n",
      "|         Syrup|    1000000007|     50|\n",
      "|         Honey|    1000000006|     62|\n",
      "|      Potatoes|    1000000001|     70|\n",
      "| Shaving Cream|    1000000000|     75|\n",
      "|     BBQ Sauce|    1000000006|     87|\n",
      "|         Bread|    1000000001|     93|\n",
      "|    Trash Cans|    1000000007|     94|\n",
      "|   Garden Hose|    1000000006|     98|\n",
      "|       Spinach|    1000000002|    100|\n",
      "|       Chicken|    1000000005|    103|\n",
      "|     Ice Cream|    1000000001|    115|\n",
      "|          Soda|    1000000006|    117|\n",
      "|       Mustard|    1000000003|    129|\n",
      "|       Tissues|    1000000003|    138|\n",
      "|     Dish Soap|    1000000004|    141|\n",
      "|    Toothpaste|    1000000005|    147|\n",
      "|     Olive Oil|    1000000001|    150|\n",
      "|     Olive Oil|    1000000006|    150|\n",
      "+--------------+--------------+-------+\n",
      "only showing top 20 rows\n",
      "\n"
     ]
    }
   ],
   "source": [
    "cust.show()\n",
    "tran.show()\n",
    "product2.show()\n",
    "tran_prod2.show()"
   ]
  },
  {
   "cell_type": "code",
   "execution_count": 127,
   "id": "252d8a03-605b-4b85-8efd-85a047beb1c6",
   "metadata": {},
   "outputs": [],
   "source": [
    "db_params = {\n",
    "    'host': 'rfm-segmentation-olap-db-1',\n",
    "    'database': 'trans_olap',\n",
    "    'user': 'admin',\n",
    "    'password': 'password',\n",
    "    'port': '5432'\n",
    "}\n",
    "\n"
   ]
  },
  {
   "cell_type": "code",
   "execution_count": null,
   "id": "1b993d9e-d3e3-42ac-9a36-731bf671ef39",
   "metadata": {},
   "outputs": [],
   "source": []
  },
  {
   "cell_type": "code",
   "execution_count": 160,
   "id": "66574711-9823-4e4b-a403-23bae01854d8",
   "metadata": {},
   "outputs": [],
   "source": [
    "def insert_from_df(df, table, conn=psycopg2.connect(**db_params)):\n",
    "    tmp = './tmp'\n",
    "    df.write.csv(tmp,mode='overwrite')\n",
    "    tmp_files = glob.glob('./tmp/*.csv')\n",
    "    print(tmp_files)\n",
    "    cursor = conn.cursor()\n",
    "\n",
    "    try:\n",
    "        for file in tmp_files:\n",
    "            with open(file, 'r') as f:\n",
    "                cursor.copy_from(f, table, sep=\",\", )\n",
    "        conn.commit()\n",
    "    except (Exception, psycopg2.DatabaseError) as e:\n",
    "        [os.remove(file) for file in tmp_files]\n",
    "        print(\"Error: %s\" % e)\n",
    "        conn.rollback()\n",
    "        cursor.close()\n",
    "        return 1\n",
    "    print(\"Table %s copied from dataframe\" % table)\n",
    "    cursor.execute(F\"Select * FROM {table} LIMIT 5;\")\n",
    "    cursor.fetchall()\n",
    "    cursor.close()\n",
    "    [os.remove(file) for file in tmp_files]\n"
   ]
  },
  {
   "cell_type": "code",
   "execution_count": 165,
   "id": "64451346-1849-4303-89dd-6e68ca53f9e8",
   "metadata": {},
   "outputs": [
    {
     "name": "stdout",
     "output_type": "stream",
     "text": [
      "['./tmp/part-00000-4d15cfb3-dae3-4fb9-b7be-0ac83357b642-c000.csv']\n",
      "Table trans_prod copied from dataframe\n"
     ]
    }
   ],
   "source": [
    "# insert_from_df(df=tran, table=\"trans\")\n",
    "# insert_from_df(df=cust, table=\"cust\")\n",
    "# insert_from_df(df=product2, table=\"product\")\n",
    "\n",
    "insert_from_df(df=tran_prod2, table=\"trans_prod\")\n"
   ]
  },
  {
   "cell_type": "code",
   "execution_count": null,
   "id": "f9cf07a3-122f-42e6-8e3c-6e435fe39b96",
   "metadata": {},
   "outputs": [],
   "source": []
  }
 ],
 "metadata": {
  "kernelspec": {
   "display_name": "Python 3 (ipykernel)",
   "language": "python",
   "name": "python3"
  },
  "language_info": {
   "codemirror_mode": {
    "name": "ipython",
    "version": 3
   },
   "file_extension": ".py",
   "mimetype": "text/x-python",
   "name": "python",
   "nbconvert_exporter": "python",
   "pygments_lexer": "ipython3",
   "version": "3.11.6"
  }
 },
 "nbformat": 4,
 "nbformat_minor": 5
}
