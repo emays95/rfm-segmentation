{
 "cells": [
  {
   "cell_type": "code",
   "execution_count": 1,
   "id": "90134ecd-0425-4248-b32f-0c059707f8dc",
   "metadata": {},
   "outputs": [
    {
     "name": "stdout",
     "output_type": "stream",
     "text": [
      "Collecting psycopg2-binary\n",
      "  Downloading psycopg2_binary-2.9.10-cp311-cp311-manylinux_2_17_x86_64.manylinux2014_x86_64.whl.metadata (4.9 kB)\n",
      "Downloading psycopg2_binary-2.9.10-cp311-cp311-manylinux_2_17_x86_64.manylinux2014_x86_64.whl (3.0 MB)\n",
      "\u001b[2K   \u001b[90m━━━━━━━━━━━━━━━━━━━━━━━━━━━━━━━━━━━━━━━━\u001b[0m \u001b[32m3.0/3.0 MB\u001b[0m \u001b[31m5.7 MB/s\u001b[0m eta \u001b[36m0:00:00\u001b[0m00:01\u001b[0m00:01\u001b[0m\n",
      "\u001b[?25hInstalling collected packages: psycopg2-binary\n",
      "Successfully installed psycopg2-binary-2.9.10\n",
      "Note: you may need to restart the kernel to use updated packages.\n"
     ]
    }
   ],
   "source": [
    "%pip install psycopg2-binary"
   ]
  },
  {
   "cell_type": "code",
   "execution_count": 2,
   "id": "350f7ed3-4797-4844-a48e-03f58863af32",
   "metadata": {},
   "outputs": [
    {
     "name": "stderr",
     "output_type": "stream",
     "text": [
      "/usr/local/spark/python/pyspark/pandas/__init__.py:50: UserWarning: 'PYARROW_IGNORE_TIMEZONE' environment variable was not set. It is required to set this environment variable to '1' in both driver and executor sides if you use pyarrow>=2.0.0. pandas-on-Spark will set it for you but it does not work if there is a Spark context already launched.\n",
      "  warnings.warn(\n"
     ]
    }
   ],
   "source": [
    "from pyspark import SparkConf, pandas as ps\n",
    "from pyspark.sql import SparkSession, functions as sf, Window\n",
    "from pyspark.sql.functions import col, collect_list\n",
    "from pyspark.sql.types import *\n",
    "import psycopg2\n",
    "import time\n",
    "import os\n",
    "import glob"
   ]
  },
  {
   "cell_type": "code",
   "execution_count": 3,
   "id": "77bf7037-b9fb-456d-98f0-956780e81bab",
   "metadata": {},
   "outputs": [],
   "source": [
    "conf = SparkConf().set(\"spark.driver.memory\", \"8g\")\n",
    "\n",
    "spark_session = SparkSession\\\n",
    "    .builder\\\n",
    "    .master(\"local\")\\\n",
    "    .config(conf=conf)\\\n",
    "    .appName(\"ETL\") \\\n",
    "    .getOrCreate()"
   ]
  },
  {
   "cell_type": "code",
   "execution_count": 4,
   "id": "7cef40f1-e766-4282-a0be-49a0d0d9a0f2",
   "metadata": {},
   "outputs": [],
   "source": [
    "oltp_params = {\n",
    "    'user': 'admin',\n",
    "    'password': 'password',\n",
    "    \"driver\": \"org.postgresql_postgresql-42.7.3.jar\"\n",
    "}\n",
    "\n",
    "oltp_url = \"jdbc:postgresql://rfm-segmentation-oltp-db-1:5432/trans_oltp\""
   ]
  },
  {
   "cell_type": "code",
   "execution_count": 5,
   "id": "7e278916-1a00-4020-a041-6b12e10af858",
   "metadata": {},
   "outputs": [
    {
     "name": "stdout",
     "output_type": "stream",
     "text": [
      "Vector(spark://cd322f95bf8a:38097/jars/org.checkerframework_checker-qual-3.42.0.jar, spark://cd322f95bf8a:38097/jars/org.postgresql_postgresql-42.7.3.jar)\n"
     ]
    }
   ],
   "source": [
    "# print(spark_session.sparkContext._jvm.java.sql.DriverManager.getDrivers())\n",
    "print(spark_session.sparkContext._jsc.sc().listJars())"
   ]
  },
  {
   "cell_type": "code",
   "execution_count": 6,
   "id": "42e1d65c-6233-4ccc-b1b0-f2ebd3c1db2d",
   "metadata": {
    "scrolled": true
   },
   "outputs": [
    {
     "name": "stdout",
     "output_type": "stream",
     "text": [
      "+----------+----------+--------------------+--------------+-------------+-----------------+----------------+--------------------+-------+\n",
      "|  trans_id|trans_date|          total_cost|payment_method|         city|       store_type|discount_applied|           promotion|cust_id|\n",
      "+----------+----------+--------------------+--------------+-------------+-----------------+----------------+--------------------+-------+\n",
      "|1000299020|2021-07-03|78.20000000000000...|Mobile Payment|        Miami| Department Store|           false|Discount on Selec...|  33877|\n",
      "|1000342674|2021-10-25|11.60000000000000...|Mobile Payment|San Francisco|      Supermarket|            true|BOGO (Buy One Get...|  33877|\n",
      "|1000806142|2020-05-25|90.06000000000000...|    Debit Card|      Chicago|   Warehouse Club|            true|                None| 629479|\n",
      "|1000008294|2020-07-27|90.77000000000000...|          Cash|San Francisco| Department Store|            true|BOGO (Buy One Get...| 143811|\n",
      "|1000641795|2020-05-22|68.82000000000000...|Mobile Payment|       Boston|  Specialty Store|            true|Discount on Selec...| 278700|\n",
      "|1000933527|2021-08-07|94.91000000000000...|          Cash|      Atlanta|   Warehouse Club|            true|                None| 598332|\n",
      "|1000604321|2022-11-05|84.95000000000000...|          Cash|      Chicago|Convenience Store|           false|BOGO (Buy One Get...|  83709|\n",
      "|1000337582|2022-07-21|28.46000000000000...|Mobile Payment|  Los Angeles|  Specialty Store|           false|Discount on Selec...| 142346|\n",
      "|1000556698|2021-10-14|18.47000000000000...|   Credit Card|      Seattle|Convenience Store|           false|Discount on Selec...| 142346|\n",
      "|1000699026|2023-08-11|88.97000000000000...|          Cash|      Chicago|      Supermarket|           false|                None| 142346|\n",
      "|1000720110|2024-04-15|80.04000000000000...|Mobile Payment|  Los Angeles|   Warehouse Club|           false|Discount on Selec...| 142346|\n",
      "|1000991622|2022-08-22|36.17000000000000...|Mobile Payment|      Atlanta|  Specialty Store|           false|                None| 142346|\n",
      "|1000739431|2023-04-21|11.81000000000000...|          Cash|San Francisco|   Warehouse Club|           false|                None| 264869|\n",
      "|1000437352|2020-03-17|33.21000000000000...|   Credit Card|      Seattle|  Specialty Store|            true|Discount on Selec...| 269538|\n",
      "|1000365148|2022-09-04|22.94000000000000...|          Cash|      Chicago|  Specialty Store|           false|                None| 390893|\n",
      "|1000329834|2020-09-09|93.11000000000000...|    Debit Card|      Chicago|         Pharmacy|            true|Discount on Selec...| 128000|\n",
      "|1000344630|2021-05-26|56.68000000000000...|          Cash|     New York|  Specialty Store|           false|BOGO (Buy One Get...|  85631|\n",
      "|1000886696|2022-09-08|36.49000000000000...|    Debit Card|      Seattle|      Supermarket|            true|                None| 610172|\n",
      "|1000890940|2020-04-29|78.67000000000000...|Mobile Payment|      Atlanta|         Pharmacy|           false|Discount on Selec...| 582400|\n",
      "|1000926569|2024-01-22|49.58000000000000...|Mobile Payment|        Miami|      Supermarket|           false|Discount on Selec...| 582400|\n",
      "+----------+----------+--------------------+--------------+-------------+-----------------+----------------+--------------------+-------+\n",
      "only showing top 20 rows\n",
      "\n"
     ]
    }
   ],
   "source": [
    "df = spark_session.read.format('jdbc').option('url', oltp_url).option('dbtable', \"trans\").option('user', 'admin').option('password', 'password').option('driver', \"org.postgresql.Driver\").load()\n",
    "\n",
    "df.show()\n"
   ]
  },
  {
   "cell_type": "code",
   "execution_count": 7,
   "id": "069aa035-f25e-4915-acb0-39124f5e4776",
   "metadata": {},
   "outputs": [],
   "source": [
    "product_dim = spark_session.read.format('jdbc').option('url', oltp_url).option('dbtable', \"product\").option('user', 'admin').option('password', 'password').option('driver', \"org.postgresql.Driver\").load()\n",
    "customer_dim = spark_session.read.format('jdbc').option('url', oltp_url).option('dbtable', \"cust\").option('user', 'admin').option('password', 'password').option('driver', \"org.postgresql.Driver\").load()\n",
    "tran_prod_fact = spark_session.read.format('jdbc').option('url', oltp_url).option('dbtable', \"trans_prod\").option('user', 'admin').option('password', 'password').option('driver', \"org.postgresql.Driver\").load()\n",
    "tran_dim = spark_session.read.format('jdbc').option('url', oltp_url).option('dbtable', \"trans\").option('user', 'admin').option('password', 'password').option('driver', \"org.postgresql.Driver\").load()\n"
   ]
  },
  {
   "cell_type": "code",
   "execution_count": 8,
   "id": "edecd490-bf3b-4c16-b799-3ce5284d4e2c",
   "metadata": {},
   "outputs": [
    {
     "data": {
      "text/plain": [
       "DataFrame[summary: string, product: string, trans_id: string, product_id: string]"
      ]
     },
     "execution_count": 8,
     "metadata": {},
     "output_type": "execute_result"
    }
   ],
   "source": [
    "tran_prod_fact.describe()\n"
   ]
  },
  {
   "cell_type": "code",
   "execution_count": 25,
   "id": "5721b40c-0001-4c41-9fe5-37bdd40bf681",
   "metadata": {
    "scrolled": true
   },
   "outputs": [
    {
     "name": "stdout",
     "output_type": "stream",
     "text": [
      "+--------------------+-----------------+-------+\n",
      "|       customer_name|customer_category|cust_id|\n",
      "+--------------------+-----------------+-------+\n",
      "|     Michelle Acosta|          Student|      1|\n",
      "|       Carolyn Brown|   Senior Citizen|      2|\n",
      "|        Victor Weeks|         Teenager|      3|\n",
      "|        Lori Pearson|         Teenager|      4|\n",
      "|           Amy Davis|          Student|      5|\n",
      "|      Joshua Coleman|      Young Adult|      6|\n",
      "|      Nathan Russell|   Senior Citizen|      7|\n",
      "|        Wayne Fields|      Young Adult|      8|\n",
      "|      Robert Jackson|      Young Adult|      9|\n",
      "|Samantha Sherman DVM|      Young Adult|     10|\n",
      "|         Katie Jones|          Student|     11|\n",
      "|Alexandria Wilkerson|     Professional|     12|\n",
      "|      Christina Cook|      Middle-Aged|     13|\n",
      "|          Kent Jones|          Student|     14|\n",
      "|      Melissa Morgan|          Retiree|     15|\n",
      "|     Jessica Mullins|      Young Adult|     16|\n",
      "|   Mr. Jerome Fisher|          Student|     17|\n",
      "|  Rachael Mccullough|        Homemaker|     18|\n",
      "|        Vincent Gill|   Senior Citizen|     19|\n",
      "|    Gabriel Williams|     Professional|     20|\n",
      "+--------------------+-----------------+-------+\n",
      "only showing top 20 rows\n",
      "\n"
     ]
    }
   ],
   "source": [
    "customer_dim.show()\n"
   ]
  },
  {
   "cell_type": "code",
   "execution_count": 19,
   "id": "6371df60-07f8-4948-881f-53f792a9389a",
   "metadata": {},
   "outputs": [
    {
     "name": "stdout",
     "output_type": "stream",
     "text": [
      "+--------------+----------+\n",
      "|       product|product_id|\n",
      "+--------------+----------+\n",
      "|    Lawn Mower|         1|\n",
      "|       Pickles|         2|\n",
      "|        Shrimp|         3|\n",
      "|          Eggs|         4|\n",
      "|       Ketchup|         5|\n",
      "|          Tuna|         6|\n",
      "|         Water|         7|\n",
      "|     Olive Oil|         8|\n",
      "|         Broom|         9|\n",
      "|      Potatoes|        10|\n",
      "|        Orange|        11|\n",
      "|   Light Bulbs|        12|\n",
      "| Peanut Butter|        13|\n",
      "|    Trash Bags|        14|\n",
      "|        Butter|        15|\n",
      "|        Cereal|        16|\n",
      "|       Mustard|        17|\n",
      "| Ironing Board|        18|\n",
      "|Cleaning Spray|        19|\n",
      "|           Tea|        20|\n",
      "+--------------+----------+\n",
      "only showing top 20 rows\n",
      "\n"
     ]
    }
   ],
   "source": [
    "product_dim.product_id = product_dim.rename\n",
    "product_dim.show()\n"
   ]
  },
  {
   "cell_type": "code",
   "execution_count": 11,
   "id": "1e0d915c-20c7-4f14-9c01-63dd378e3714",
   "metadata": {},
   "outputs": [
    {
     "data": {
      "text/plain": [
       "DataFrame[summary: string, trans_id: string, total_cost: string, payment_method: string, city: string, store_type: string, promotion: string, cust_id: string]"
      ]
     },
     "execution_count": 11,
     "metadata": {},
     "output_type": "execute_result"
    }
   ],
   "source": [
    "tran_dim.describe()"
   ]
  },
  {
   "cell_type": "code",
   "execution_count": 32,
   "id": "21ff7408-1ffb-4b3a-9bbb-1b59f404cd79",
   "metadata": {},
   "outputs": [
    {
     "name": "stdout",
     "output_type": "stream",
     "text": [
      "+----------+----------+----------+-------+\n",
      "|  trans_id|product_id|trans_date|cust_id|\n",
      "+----------+----------+----------+-------+\n",
      "|1000001491|         2|2022-10-29| 315863|\n",
      "|1000010824|         2|2022-01-06| 423272|\n",
      "|1000025357|         2|2023-11-30| 189014|\n",
      "|1000027766|         1|2020-11-11| 398088|\n",
      "|1000028663|         1|2023-08-22| 513663|\n",
      "|1000032837|         1|2023-03-24| 333029|\n",
      "|1000036123|         1|2020-11-26|  27619|\n",
      "|1000038805|         1|2021-09-23| 378306|\n",
      "|1000040863|         2|2022-04-28| 434641|\n",
      "|1000043591|         1|2021-07-26|  65245|\n",
      "|1000050636|         2|2023-08-20|  38189|\n",
      "|1000050860|         2|2020-08-30|  30304|\n",
      "|1000055410|         1|2021-07-31|  89984|\n",
      "|1000055491|         1|2024-03-09| 431868|\n",
      "|1000059460|         1|2021-09-05| 318968|\n",
      "|1000060350|         1|2021-05-22| 228746|\n",
      "|1000062227|         2|2022-12-03|  98458|\n",
      "|1000074421|         1|2020-09-18|  54856|\n",
      "|1000091287|         2|2023-02-11| 107278|\n",
      "|1000099710|         2|2020-06-10| 245685|\n",
      "+----------+----------+----------+-------+\n",
      "only showing top 20 rows\n",
      "\n"
     ]
    }
   ],
   "source": [
    "tran_prod_fact2 = tran_prod_fact.join(other=tran_dim, on='trans_id', how='left').select(['trans_id', 'product_id', 'trans_date', 'cust_id'])\n",
    "tran_prod_fact2.show()"
   ]
  },
  {
   "cell_type": "code",
   "execution_count": 18,
   "id": "0d6224cf-7b12-4f72-9e27-41666b03c145",
   "metadata": {},
   "outputs": [
    {
     "name": "stdout",
     "output_type": "stream",
     "text": [
      "+----------+--------------------+--------------+-------------+-----------------+----------------+--------------------+\n",
      "|  trans_id|          total_cost|payment_method|         city|       store_type|discount_applied|           promotion|\n",
      "+----------+--------------------+--------------+-------------+-----------------+----------------+--------------------+\n",
      "|1000299020|78.20000000000000...|Mobile Payment|        Miami| Department Store|           false|Discount on Selec...|\n",
      "|1000342674|11.60000000000000...|Mobile Payment|San Francisco|      Supermarket|            true|BOGO (Buy One Get...|\n",
      "|1000806142|90.06000000000000...|    Debit Card|      Chicago|   Warehouse Club|            true|                None|\n",
      "|1000008294|90.77000000000000...|          Cash|San Francisco| Department Store|            true|BOGO (Buy One Get...|\n",
      "|1000641795|68.82000000000000...|Mobile Payment|       Boston|  Specialty Store|            true|Discount on Selec...|\n",
      "|1000933527|94.91000000000000...|          Cash|      Atlanta|   Warehouse Club|            true|                None|\n",
      "|1000604321|84.95000000000000...|          Cash|      Chicago|Convenience Store|           false|BOGO (Buy One Get...|\n",
      "|1000337582|28.46000000000000...|Mobile Payment|  Los Angeles|  Specialty Store|           false|Discount on Selec...|\n",
      "|1000556698|18.47000000000000...|   Credit Card|      Seattle|Convenience Store|           false|Discount on Selec...|\n",
      "|1000699026|88.97000000000000...|          Cash|      Chicago|      Supermarket|           false|                None|\n",
      "|1000720110|80.04000000000000...|Mobile Payment|  Los Angeles|   Warehouse Club|           false|Discount on Selec...|\n",
      "|1000991622|36.17000000000000...|Mobile Payment|      Atlanta|  Specialty Store|           false|                None|\n",
      "|1000739431|11.81000000000000...|          Cash|San Francisco|   Warehouse Club|           false|                None|\n",
      "|1000437352|33.21000000000000...|   Credit Card|      Seattle|  Specialty Store|            true|Discount on Selec...|\n",
      "|1000365148|22.94000000000000...|          Cash|      Chicago|  Specialty Store|           false|                None|\n",
      "+----------+--------------------+--------------+-------------+-----------------+----------------+--------------------+\n",
      "only showing top 15 rows\n",
      "\n"
     ]
    }
   ],
   "source": [
    "tran_dim2= tran_dim.drop('cust_id').drop('trans_date')\n",
    "tran_dim2.show(15)"
   ]
  },
  {
   "cell_type": "code",
   "execution_count": 22,
   "id": "ae4b097c-48f8-40bb-ac8c-4d22152da594",
   "metadata": {},
   "outputs": [],
   "source": [
    "olap_params = {\n",
    "    'host': 'rfm-segmentation-olap-db-1',\n",
    "    'database': 'trans_olap',\n",
    "    'user': 'admin',\n",
    "    'password': 'password',\n",
    "    'port': '5432'\n",
    "}\n",
    "\n"
   ]
  },
  {
   "cell_type": "code",
   "execution_count": 23,
   "id": "66574711-9823-4e4b-a403-23bae01854d8",
   "metadata": {},
   "outputs": [],
   "source": [
    "def insert_from_df(df, table, conn=psycopg2.connect(**olap_params)):\n",
    "    tmp = './tmp'\n",
    "    df.write.csv(tmp,mode='overwrite')\n",
    "    tmp_files = glob.glob('./tmp/*.csv')\n",
    "    print(tmp_files)\n",
    "    cursor = conn.cursor()\n",
    "\n",
    "    try:\n",
    "        for file in tmp_files:\n",
    "            with open(file, 'r') as f:\n",
    "                cursor.copy_from(f, table, sep=\",\", )\n",
    "        conn.commit()\n",
    "    except (Exception, psycopg2.DatabaseError) as e:\n",
    "        [os.remove(file) for file in tmp_files]\n",
    "        print(\"Error: %s\" % e)\n",
    "        conn.rollback()\n",
    "        cursor.close()\n",
    "        return 1\n",
    "    print(\"Table %s copied from dataframe\" % table)\n",
    "    cursor.execute(F\"Select * FROM {table} LIMIT 5;\")\n",
    "    cursor.fetchall()\n",
    "    cursor.close()\n",
    "    [os.remove(file) for file in tmp_files]\n"
   ]
  },
  {
   "cell_type": "code",
   "execution_count": 35,
   "id": "64451346-1849-4303-89dd-6e68ca53f9e8",
   "metadata": {},
   "outputs": [
    {
     "name": "stdout",
     "output_type": "stream",
     "text": [
      "['./tmp/part-00000-c617dad0-b923-4c7b-9885-44654a8f1b3f-c000.csv']\n",
      "Table trans_prod_fact copied from dataframe\n"
     ]
    }
   ],
   "source": [
    "# insert_from_df(df=tran_dim2, table=\"trans_dim\")\n",
    "# insert_from_df(df=customer_dim.select([\"cust_id\",\"customer_name\",\"customer_category\"]), table=\"cust_dim\")\n",
    "# insert_from_df(df=product_dim.select([\"product_id\", \"product\"]), table=\"prod_dim\")\n",
    "insert_from_df(df=tran_prod_fact2.select(['trans_id','product_id','trans_date','cust_id']) , table=\"trans_prod_fact\")\n"
   ]
  },
  {
   "cell_type": "code",
   "execution_count": null,
   "id": "f9cf07a3-122f-42e6-8e3c-6e435fe39b96",
   "metadata": {},
   "outputs": [],
   "source": []
  }
 ],
 "metadata": {
  "kernelspec": {
   "display_name": "Python 3 (ipykernel)",
   "language": "python",
   "name": "python3"
  },
  "language_info": {
   "codemirror_mode": {
    "name": "ipython",
    "version": 3
   },
   "file_extension": ".py",
   "mimetype": "text/x-python",
   "name": "python",
   "nbconvert_exporter": "python",
   "pygments_lexer": "ipython3",
   "version": "3.11.6"
  }
 },
 "nbformat": 4,
 "nbformat_minor": 5
}
