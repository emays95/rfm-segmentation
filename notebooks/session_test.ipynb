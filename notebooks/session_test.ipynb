{
 "cells": [
  {
   "cell_type": "code",
   "execution_count": 1,
   "id": "fe41f959-92b0-41be-a4fa-42af8d165d40",
   "metadata": {},
   "outputs": [],
   "source": [
    "from pyspark import SparkContext"
   ]
  },
  {
   "cell_type": "code",
   "execution_count": 2,
   "id": "e88ebee3-1b17-427e-ae5e-10e52fdd3325",
   "metadata": {},
   "outputs": [],
   "source": [
    "sc = SparkContext(\"local\", \"first app\")"
   ]
  },
  {
   "cell_type": "code",
   "execution_count": 4,
   "id": "a489156a-53ae-45be-bd10-617201d6e364",
   "metadata": {},
   "outputs": [
    {
     "name": "stdout",
     "output_type": "stream",
     "text": [
      "None\n"
     ]
    }
   ],
   "source": [
    "\n",
    "words = sc.parallelize (\n",
    "    [\"This\", \"SPARK\", \"cluster\", \"seems\", \"to\", \"work\", \"just\", \"fine!\"]\n",
    " )\n",
    "def f(x): \n",
    "     print(x)\n",
    "print(words.foreach(f)) "
   ]
  },
  {
   "cell_type": "code",
   "execution_count": 3,
   "id": "929ea92a-efef-4a52-838e-9c387f6f2cbb",
   "metadata": {
    "scrolled": true
   },
   "outputs": [
    {
     "name": "stdout",
     "output_type": "stream",
     "text": [
      "Lines with K: 1133, lines with trial: 109\n"
     ]
    }
   ],
   "source": [
    "bookFile = \"file:///home/jovyan/work/trial.txt\"\n",
    "bookData = sc.textFile(bookFile).cache()\n",
    "numKs = bookData.filter(lambda s: 'K.' in s).count()\n",
    "numTs = bookData.filter(lambda s: 'trial' in s).count()\n",
    "print(\"Lines with K: %i, lines with trial: %i\" % (numKs, numTs))"
   ]
  },
  {
   "cell_type": "code",
   "execution_count": 5,
   "id": "18cd11cf-dcf6-42a2-8003-65025fd2ccbe",
   "metadata": {},
   "outputs": [
    {
     "ename": "AttributeError",
     "evalue": "'SparkContext' object has no attribute 'close'",
     "output_type": "error",
     "traceback": [
      "\u001b[0;31m---------------------------------------------------------------------------\u001b[0m",
      "\u001b[0;31mAttributeError\u001b[0m                            Traceback (most recent call last)",
      "Cell \u001b[0;32mIn[5], line 1\u001b[0m\n\u001b[0;32m----> 1\u001b[0m \u001b[43msc\u001b[49m\u001b[38;5;241;43m.\u001b[39;49m\u001b[43mclose\u001b[49m()\n",
      "\u001b[0;31mAttributeError\u001b[0m: 'SparkContext' object has no attribute 'close'"
     ]
    }
   ],
   "source": [
    "sc.close()"
   ]
  },
  {
   "cell_type": "code",
   "execution_count": 6,
   "id": "93e1de9e-80eb-4068-aead-560bdd72daed",
   "metadata": {},
   "outputs": [
    {
     "data": {
      "text/plain": [
       "'http://a3ece24ecb49:4040'"
      ]
     },
     "execution_count": 6,
     "metadata": {},
     "output_type": "execute_result"
    }
   ],
   "source": [
    "sc.uiWebUrl"
   ]
  },
  {
   "cell_type": "code",
   "execution_count": null,
   "id": "233e6861-bc96-451d-bcf4-63c27e923e73",
   "metadata": {},
   "outputs": [],
   "source": []
  }
 ],
 "metadata": {
  "kernelspec": {
   "display_name": "Python 3 (ipykernel)",
   "language": "python",
   "name": "python3"
  },
  "language_info": {
   "codemirror_mode": {
    "name": "ipython",
    "version": 3
   },
   "file_extension": ".py",
   "mimetype": "text/x-python",
   "name": "python",
   "nbconvert_exporter": "python",
   "pygments_lexer": "ipython3",
   "version": "3.11.6"
  }
 },
 "nbformat": 4,
 "nbformat_minor": 5
}
